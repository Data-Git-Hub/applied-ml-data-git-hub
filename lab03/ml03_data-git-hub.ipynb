{
 "cells": [
  {
   "cell_type": "markdown",
   "metadata": {},
   "source": [
    "# Multiple Model Prediction of Wine Data\n",
    "\n",
    "Author: Data-Git-Hub <br>\n",
    "GitHub Project Repository Link: https://github.com/Data-Git-Hub/applied-ml-data-git-hub <br>\n",
    "17 March 2025 <br>"
   ]
  },
  {
   "cell_type": "markdown",
   "metadata": {},
   "source": [
    "### Introduction\n",
    "The objective of the Wine dataset classification problem is to predict the origin of wines based on their chemical characteristics. By analyzing 13 different features, such as alcohol content, malic acid, ash, alkalinity of ash, magnesium content, and several others, we aim to classify a given wine into one of three possible cultivars. This classification task helps in understanding the relationship between the chemical properties and the quality or type of wine, serving as a basis for further research in oenology and machine learning.\n",
    "\n",
    "This project will involve: <br>\n",
    "\n",
    "- Decision Tree Classifier (DT)\n",
    "\n",
    "    A Decision Tree splits data into smaller groups based on decision rules (like \"is height greater than 150 cm?\"). It’s like a flowchart, where each decision point leads to another question until a final classification is reached. <br>\n",
    "\n",
    "    Strengths: Easy to interpret and fast to train.<br>\n",
    "    Weaknesses: Can overfit if the tree becomes too complex. <br>\n",
    "\n",
    "- Support Vector Machine (SVM)\n",
    "\n",
    "    A Support Vector Machine tries to find the \"best boundary\" (a hyperplane) that separates data into classes. It works well with complex data and small datasets. <br>\n",
    "\n",
    "    Strengths: Effective when there is a clear margin of separation between classes. <br.>\n",
    "    Weaknesses: Computationally expensive for large datasets. <br>\n",
    "\n",
    "- Neural Network (NN)\n",
    "\n",
    "    A Neural Network is inspired by how human brains process information. It consists of layers of interconnected \"neurons\" that process input data and adjust based on feedback. <br>\n",
    "\n",
    "    Strengths: Can handle complex patterns and non-linear relationships. <br>\n",
    "    Weaknesses: Needs more data and tuning to avoid overfitting.<br>\n",
    "\n"
   ]
  },
  {
   "cell_type": "markdown",
   "metadata": {},
   "source": [
    "### Imports\n",
    "Python libraries are collections of pre-written code that provide specific functionalities, making programming more efficient and reducing the need to write code from scratch. These libraries cover a wide range of applications, including data analysis, machine learning, web development, and automation. Some libraries, such as os, sys, math, json, and datetime, come built-in with Python as part of its standard library, providing essential functions for file handling, system operations, mathematical computations, and data serialization. Other popular third-party libraries, like pandas, numpy, matplotlib, seaborn, and scikit-learn, must be installed separately and are widely used in data science and machine learning. The extensive availability of libraries in Python's ecosystem makes it a versatile and powerful programming language for various domains. <br>\n",
    "\n",
    "Pandas is a powerful data manipulation and analysis library that provides flexible data structures, such as DataFrames and Series. It is widely used for handling structured datasets, enabling easy data cleaning, transformation, and aggregation. Pandas is essential for data preprocessing in machine learning and statistical analysis. <br>\n",
    "https://pandas.pydata.org/docs/ <br>\n",
    "\n",
    "NumPy (Numerical Python) is a foundational library for numerical computing in Python. It provides support for large, multi-dimensional arrays and matrices, along with a comprehensive collection of mathematical functions to operate on these arrays efficiently. NumPy is a key component in scientific computing and machine learning. <br>\n",
    "https://numpy.org/doc/stable/ <br>\n",
    "\n",
    "Matplotlib is a widely used data visualization library that allows users to create static, animated, and interactive plots. It provides extensive tools for generating various chart types, including line plots, scatter plots, histograms, and bar charts, making it a critical library for exploratory data analysis. <br>\n",
    "https://matplotlib.org/stable/contents.html <br>\n",
    "\n",
    "Seaborn is a statistical data visualization library built on top of Matplotlib, designed for creating visually appealing and informative plots. It simplifies complex visualizations, such as heatmaps, violin plots, and pair plots, making it easier to identify patterns and relationships in datasets. <br>\n",
    "https://seaborn.pydata.org/ <br>\n",
    "\n",
    "Scikit-learn provides a variety of tools for machine learning, including data preprocessing, model selection, and evaluation. It contains essential functions for building predictive models and analyzing datasets. <br>\n",
    "sklearn.metrics: This module provides various performance metrics for evaluating machine learning models. <br>\n",
    "https://scikit-learn.org/stable/modules/model_evaluation.html<br>\n",
    "\n",
    "IPython.core.display is a module from the IPython library that provides tools for displaying rich output in Jupyter Notebooks, including formatted text, images, HTML, and interactive widgets. It enhances visualization and interaction within Jupyter environments.\n",
    "https://ipython.readthedocs.io/en/stable/api/generated/IPython.core.display.html <br>"
   ]
  },
  {
   "cell_type": "code",
   "execution_count": 163,
   "metadata": {},
   "outputs": [],
   "source": [
    "# Data handling\n",
    "import pandas as pd\n",
    "import numpy as np\n",
    "\n",
    "# Machine learning imports\n",
    "from sklearn.datasets import load_wine\n",
    "from sklearn.model_selection import train_test_split\n",
    "from sklearn.preprocessing import StandardScaler, PolynomialFeatures, MinMaxScaler\n",
    "from sklearn.linear_model import LogisticRegression\n",
    "from sklearn.metrics import confusion_matrix, classification_report\n",
    "\n",
    "# Visualization libraries\n",
    "import matplotlib.pyplot as plt\n",
    "import seaborn as sns\n",
    "\n",
    "# Fully disable output truncation in Jupyter (for VS Code)\n",
    "from IPython.core.interactiveshell import InteractiveShell\n",
    "InteractiveShell.ast_node_interactivity = \"all\"  # Show all outputs in Jupyter Notebook\n",
    "\n",
    "# Load the Wine dataset\n",
    "from sklearn.datasets import load_wine\n",
    "wine_data = load_wine()\n",
    "wine_df = pd.DataFrame(data=wine_data.data, columns=wine_data.feature_names)\n",
    "wine_df['target'] = wine_data.target\n",
    "\n",
    "\n"
   ]
  },
  {
   "cell_type": "markdown",
   "metadata": {},
   "source": [
    "### Section 1. Import and Inspect Data\n",
    "\n",
    "We will import the first few rows of the dataset and display important information to make decisions later through the process.\n",
    "\n",
    "#### Section 1.A. Dataset Structure and Data Types <br>"
   ]
  },
  {
   "cell_type": "code",
   "execution_count": 164,
   "metadata": {},
   "outputs": [
    {
     "name": "stdout",
     "output_type": "stream",
     "text": [
      "\n",
      "Dataset Shape: (178, 14)\n",
      "\n",
      "Data Types of Each Column:\n",
      "alcohol                         float64\n",
      "malic_acid                      float64\n",
      "ash                             float64\n",
      "alcalinity_of_ash               float64\n",
      "magnesium                       float64\n",
      "total_phenols                   float64\n",
      "flavanoids                      float64\n",
      "nonflavanoid_phenols            float64\n",
      "proanthocyanins                 float64\n",
      "color_intensity                 float64\n",
      "hue                             float64\n",
      "od280/od315_of_diluted_wines    float64\n",
      "proline                         float64\n",
      "target                            int64\n",
      "dtype: object\n"
     ]
    }
   ],
   "source": [
    "# Display dataset structure\n",
    "print(\"\\nDataset Shape:\", wine_df.shape)\n",
    "\n",
    "# Display data types\n",
    "print(\"\\nData Types of Each Column:\")\n",
    "print(wine_df.dtypes)"
   ]
  },
  {
   "cell_type": "markdown",
   "metadata": {},
   "source": [
    "#### Section 1.B. Summary Statistics and Check for Missing Values <br>"
   ]
  },
  {
   "cell_type": "code",
   "execution_count": 165,
   "metadata": {},
   "outputs": [
    {
     "name": "stdout",
     "output_type": "stream",
     "text": [
      "\n",
      "Summary Statistics:\n",
      "       alcohol  malic_acid    ash  alcalinity_of_ash  magnesium  total_phenols  flavanoids  nonflavanoid_phenols  proanthocyanins  color_intensity    hue  od280/od315_of_diluted_wines  proline  target\n",
      "count   178.00      178.00 178.00             178.00     178.00         178.00      178.00                178.00           178.00           178.00 178.00                        178.00   178.00  178.00\n",
      "mean     13.00        2.34   2.37              19.49      99.74           2.30        2.03                  0.36             1.59             5.06   0.96                          2.61   746.89    0.94\n",
      "std       0.81        1.12   0.27               3.34      14.28           0.63        1.00                  0.12             0.57             2.32   0.23                          0.71   314.91    0.78\n",
      "min      11.03        0.74   1.36              10.60      70.00           0.98        0.34                  0.13             0.41             1.28   0.48                          1.27   278.00    0.00\n",
      "25%      12.36        1.60   2.21              17.20      88.00           1.74        1.21                  0.27             1.25             3.22   0.78                          1.94   500.50    0.00\n",
      "50%      13.05        1.87   2.36              19.50      98.00           2.35        2.13                  0.34             1.56             4.69   0.96                          2.78   673.50    1.00\n",
      "75%      13.68        3.08   2.56              21.50     107.00           2.80        2.88                  0.44             1.95             6.20   1.12                          3.17   985.00    2.00\n",
      "max      14.83        5.80   3.23              30.00     162.00           3.88        5.08                  0.66             3.58            13.00   1.71                          4.00  1680.00    2.00\n",
      "\n",
      "Missing Values:\n",
      "alcohol                         0\n",
      "malic_acid                      0\n",
      "ash                             0\n",
      "alcalinity_of_ash               0\n",
      "magnesium                       0\n",
      "total_phenols                   0\n",
      "flavanoids                      0\n",
      "nonflavanoid_phenols            0\n",
      "proanthocyanins                 0\n",
      "color_intensity                 0\n",
      "hue                             0\n",
      "od280/od315_of_diluted_wines    0\n",
      "proline                         0\n",
      "target                          0\n",
      "dtype: int64\n"
     ]
    }
   ],
   "source": [
    "# Summary statistics\n",
    "print(\"\\nSummary Statistics:\")\n",
    "print(wine_df.describe())\n",
    "\n",
    "# Check for missing values\n",
    "print(\"\\nMissing Values:\")\n",
    "print(wine_df.isnull().sum())"
   ]
  },
  {
   "cell_type": "markdown",
   "metadata": {},
   "source": [
    "#### Section 1.C. Display of first few rows and full dataset printout due to large size <br>"
   ]
  },
  {
   "cell_type": "code",
   "execution_count": 166,
   "metadata": {},
   "outputs": [
    {
     "name": "stdout",
     "output_type": "stream",
     "text": [
      "\n",
      "First 5 rows of the dataset:\n",
      "   alcohol  malic_acid  ash  alcalinity_of_ash  magnesium  total_phenols  flavanoids  nonflavanoid_phenols  proanthocyanins  color_intensity  hue  od280/od315_of_diluted_wines  proline  target\n",
      "0    14.23        1.71 2.43              15.60     127.00           2.80        3.06                  0.28             2.29             5.64 1.04                          3.92  1065.00       0\n",
      "1    13.20        1.78 2.14              11.20     100.00           2.65        2.76                  0.26             1.28             4.38 1.05                          3.40  1050.00       0\n",
      "2    13.16        2.36 2.67              18.60     101.00           2.80        3.24                  0.30             2.81             5.68 1.03                          3.17  1185.00       0\n",
      "3    14.37        1.95 2.50              16.80     113.00           3.85        3.49                  0.24             2.18             7.80 0.86                          3.45  1480.00       0\n",
      "4    13.24        2.59 2.87              21.00     118.00           2.80        2.69                  0.39             1.82             4.32 1.04                          2.93   735.00       0\n"
     ]
    },
    {
     "data": {
      "text/plain": [
       "34904"
      ]
     },
     "execution_count": 166,
     "metadata": {},
     "output_type": "execute_result"
    },
    {
     "name": "stdout",
     "output_type": "stream",
     "text": [
      "\n",
      "🔹 Full dataset saved to 'wine_dataset_output.txt' (open in text editor if needed).\n"
     ]
    }
   ],
   "source": [
    "# Display the first few rows of the DataFrame\n",
    "print(\"\\nFirst 5 rows of the dataset:\")\n",
    "print(wine_df.head())\n",
    "\n",
    "# Write Full Output to a Text File Due to Large File Size\n",
    "with open(\"wine_dataset_output.txt\", \"w\", encoding=\"utf-8\") as f:\n",
    "    f.write(wine_df.to_string())\n",
    "print(\"\\n🔹 Full dataset saved to 'wine_dataset_output.txt' (open in text editor if needed).\")"
   ]
  },
  {
   "cell_type": "markdown",
   "metadata": {},
   "source": [
    "### Section 2. Data Exploration and Preparation\n",
    "\n",
    "Since from the inspection of the data there doesn't seem to be any missing values we can examine if there are any feature engineering that we might want to do with the datasets. A few features that we can consider and see if these ideas add fidelity to the overall fit of the datasets to the machine learning models.  \n",
    "\n",
    "1) Alcohol and Flavonoids Interactions\n",
    "2) Proline Factor (Aging of Wine)\n",
    "3) Phenol Ratio (Total Phenols/Favonoids)\n",
    "4) Re-categorization of Alcohol into Low, Medium, High (to simply Alcohol Content Levels)\n",
    "5) Standardization of Acidty, Alcohol and Phenols"
   ]
  },
  {
   "cell_type": "markdown",
   "metadata": {},
   "source": [
    "#### Section 2.1. Alcohol and Flavonoids Interactions: <br>\n",
    "\n",
    "Wine quality is rarely determined by one chemical compound alone—instead, it's influenced by complex interactions between multiple factors. <br>\n",
    "For example, alcohol and flavonoids together might influence mouthfeel, and their combined effect might be non-linear. <br>\n",
    "By creating interaction features, we capture how multiple components interact to affect taste, acidity, and body. <br>\n",
    "\n",
    "---\n",
    "\n",
    "Hjelmeland, A. K., & Ebeler, S. E. (2015). _Interactions between wine aroma compounds and the environment._ Journal of Agricultural and Food Chemistry, _63_(6), 1345–1355. https://doi.org/10.1021/jf505400u <br>\n",
    "\n",
    "Noble, A. C. (1999). _Sensory evaluation of wine: The human experience. Food Quality and Preference_, _10_(3), 137–143. https://doi.org/10.1016/S0950-3293(98)00047-9 <br>\n"
   ]
  },
  {
   "cell_type": "code",
   "execution_count": 167,
   "metadata": {},
   "outputs": [
    {
     "name": "stdout",
     "output_type": "stream",
     "text": [
      "   alcohol  malic_acid  ash  alcalinity_of_ash  magnesium  total_phenols  flavanoids  nonflavanoid_phenols  proanthocyanins  color_intensity  hue  od280/od315_of_diluted_wines  proline  alcohol malic_acid  alcohol ash  alcohol alcalinity_of_ash  alcohol magnesium  alcohol total_phenols  alcohol flavanoids  alcohol nonflavanoid_phenols  alcohol proanthocyanins  alcohol color_intensity  alcohol hue  alcohol od280/od315_of_diluted_wines  alcohol proline  malic_acid ash  malic_acid alcalinity_of_ash  malic_acid magnesium  malic_acid total_phenols  malic_acid flavanoids  malic_acid nonflavanoid_phenols  malic_acid proanthocyanins  malic_acid color_intensity  malic_acid hue  malic_acid od280/od315_of_diluted_wines  malic_acid proline  ash alcalinity_of_ash  ash magnesium  ash total_phenols  ash flavanoids  ash nonflavanoid_phenols  ash proanthocyanins  ash color_intensity  ash hue  ash od280/od315_of_diluted_wines  ash proline  alcalinity_of_ash magnesium  alcalinity_of_ash total_phenols  alcalinity_of_ash flavanoids  alcalinity_of_ash nonflavanoid_phenols  alcalinity_of_ash proanthocyanins  alcalinity_of_ash color_intensity  alcalinity_of_ash hue  alcalinity_of_ash od280/od315_of_diluted_wines  alcalinity_of_ash proline  magnesium total_phenols  magnesium flavanoids  magnesium nonflavanoid_phenols  magnesium proanthocyanins  magnesium color_intensity  magnesium hue  magnesium od280/od315_of_diluted_wines  magnesium proline  total_phenols flavanoids  total_phenols nonflavanoid_phenols  total_phenols proanthocyanins  total_phenols color_intensity  total_phenols hue  total_phenols od280/od315_of_diluted_wines  total_phenols proline  flavanoids nonflavanoid_phenols  flavanoids proanthocyanins  flavanoids color_intensity  flavanoids hue  flavanoids od280/od315_of_diluted_wines  flavanoids proline  nonflavanoid_phenols proanthocyanins  nonflavanoid_phenols color_intensity  nonflavanoid_phenols hue  nonflavanoid_phenols od280/od315_of_diluted_wines  nonflavanoid_phenols proline  proanthocyanins color_intensity  proanthocyanins hue  proanthocyanins od280/od315_of_diluted_wines  proanthocyanins proline  color_intensity hue  color_intensity od280/od315_of_diluted_wines  color_intensity proline  hue od280/od315_of_diluted_wines  hue proline  od280/od315_of_diluted_wines proline  target\n",
      "0    14.23        1.71 2.43              15.60     127.00           2.80        3.06                  0.28             2.29             5.64 1.04                          3.92  1065.00               24.33        34.58                     221.99            1807.21                  39.84               43.54                          3.98                    32.59                    80.26        14.80                                 55.78         15154.95            4.16                         26.68                217.17                      4.79                   5.23                             0.48                        3.92                        9.64            1.78                                     6.70             1821.15                  37.91         308.61               6.80            7.44                      0.68                 5.56                13.71     2.53                              9.53      2587.95                      1981.20                            43.68                         47.74                                    4.37                              35.72                              87.98                  16.22                                           61.15                   16614.00                   355.60                388.62                           35.56                     290.83                     716.28         132.08                                  497.84          135255.00                      8.57                                0.78                           6.41                          15.79               2.91                                       10.98                2982.00                             0.86                        7.01                       17.26            3.18                                    12.00             3258.90                                  0.64                                  1.58                      0.29                                               1.10                        298.20                            12.92                 2.38                                          8.98                  2438.85                 5.87                                         22.11                  6006.60                              4.08      1107.60                               4174.80       0\n",
      "1    13.20        1.78 2.14              11.20     100.00           2.65        2.76                  0.26             1.28             4.38 1.05                          3.40  1050.00               23.50        28.25                     147.84            1320.00                  34.98               36.43                          3.43                    16.90                    57.82        13.86                                 44.88         13860.00            3.81                         19.94                178.00                      4.72                   4.91                             0.46                        2.28                        7.80            1.87                                     6.05             1869.00                  23.97         214.00               5.67            5.91                      0.56                 2.74                 9.37     2.25                              7.28      2247.00                      1120.00                            29.68                         30.91                                    2.91                              14.34                              49.06                  11.76                                           38.08                   11760.00                   265.00                276.00                           26.00                     128.00                     438.00         105.00                                  340.00          105000.00                      7.31                                0.69                           3.39                          11.61               2.78                                        9.01                2782.50                             0.72                        3.53                       12.09            2.90                                     9.38             2898.00                                  0.33                                  1.14                      0.27                                               0.88                        273.00                             5.61                 1.34                                          4.35                  1344.00                 4.60                                         14.89                  4599.00                              3.57      1102.50                               3570.00       0\n",
      "2    13.16        2.36 2.67              18.60     101.00           2.80        3.24                  0.30             2.81             5.68 1.03                          3.17  1185.00               31.06        35.14                     244.78            1329.16                  36.85               42.64                          3.95                    36.98                    74.75        13.55                                 41.72         15594.60            6.30                         43.90                238.36                      6.61                   7.65                             0.71                        6.63                       13.40            2.43                                     7.48             2796.60                  49.66         269.67               7.48            8.65                      0.80                 7.50                15.17     2.75                              8.46      3163.95                      1878.60                            52.08                         60.26                                    5.58                              52.27                             105.65                  19.16                                           58.96                   22041.00                   282.80                327.24                           30.30                     283.81                     573.68         104.03                                  320.17          119685.00                      9.07                                0.84                           7.87                          15.90               2.88                                        8.88                3318.00                             0.97                        9.10                       18.40            3.34                                    10.27             3839.40                                  0.84                                  1.70                      0.31                                               0.95                        355.50                            15.96                 2.89                                          8.91                  3329.85                 5.85                                         18.01                  6730.80                              3.27      1220.55                               3756.45       0\n",
      "3    14.37        1.95 2.50              16.80     113.00           3.85        3.49                  0.24             2.18             7.80 0.86                          3.45  1480.00               28.02        35.92                     241.42            1623.81                  55.32               50.15                          3.45                    31.33                   112.09        12.36                                 49.58         21267.60            4.88                         32.76                220.35                      7.51                   6.81                             0.47                        4.25                       15.21            1.68                                     6.73             2886.00                  42.00         282.50               9.62            8.73                      0.60                 5.45                19.50     2.15                              8.62      3700.00                      1898.40                            64.68                         58.63                                    4.03                              36.62                             131.04                  14.45                                           57.96                   24864.00                   435.05                394.37                           27.12                     246.34                     881.40          97.18                                  389.85          167240.00                     13.44                                0.92                           8.39                          30.03               3.31                                       13.28                5698.00                             0.84                        7.61                       27.22            3.00                                    12.04             5165.20                                  0.52                                  1.87                      0.21                                               0.83                        355.20                            17.00                 1.87                                          7.52                  3226.40                 6.71                                         26.91                 11544.00                              2.97      1272.80                               5106.00       0\n",
      "4    13.24        2.59 2.87              21.00     118.00           2.80        2.69                  0.39             1.82             4.32 1.04                          2.93   735.00               34.29        38.00                     278.04            1562.32                  37.07               35.62                          5.16                    24.10                    57.20        13.77                                 38.79          9731.40            7.43                         54.39                305.62                      7.25                   6.97                             1.01                        4.71                       11.19            2.69                                     7.59             1903.65                  60.27         338.66               8.04            7.72                      1.12                 5.22                12.40     2.98                              8.41      2109.45                      2478.00                            58.80                         56.49                                    8.19                              38.22                              90.72                  21.84                                           61.53                   15435.00                   330.40                317.42                           46.02                     214.76                     509.76         122.72                                  345.74           86730.00                      7.53                                1.09                           5.10                          12.10               2.91                                        8.20                2058.00                             1.05                        4.90                       11.62            2.80                                     7.88             1977.15                                  0.71                                  1.68                      0.41                                               1.14                        286.65                             7.86                 1.89                                          5.33                  1337.70                 4.49                                         12.66                  3175.20                              3.05       764.40                               2153.55       0\n"
     ]
    }
   ],
   "source": [
    "poly = PolynomialFeatures(degree=2, interaction_only=True, include_bias=False)\n",
    "poly_features = poly.fit_transform(wine_df.drop(columns=['target']))\n",
    "wine_poly_df = pd.DataFrame(poly_features, columns=poly.get_feature_names_out(wine_df.drop(columns=['target']).columns))\n",
    "\n",
    "# Add target column back\n",
    "wine_poly_df['target'] = wine_df['target']\n",
    "\n",
    "print(wine_poly_df.head())  # Check new features\n"
   ]
  },
  {
   "cell_type": "markdown",
   "metadata": {},
   "source": [
    "#### Section 2.2. Proline Factor (Aging of Wine): <br>\n",
    "\n",
    "Proline is an amino acid that contributes to wine body and aging potential, but it is highly skewed in data. <br>\n",
    "Expensive aged wines typically have very high proline levels, while lower-end wines have much less. <br>\n",
    "Log transformation makes proline variations more interpretable so that it doesn't disproportionately influence predictions. <br>\n",
    "\n",
    "---\n",
    "\n",
    "Henschke, P. A., & Jiranek, V. (1993). _Amino acid utilization by wine yeasts._ Australian Journal of Grape and Wine Research, _7_(2), 137–145. https://doi.org/10.1111/j.1755-0238.1993.tb00019.x <br>\n",
    "Waterhouse, A. L., Sacks, G. L., & Jeffery, D. W. (2016). _Understanding wine chemistry._ Wiley. https://doi.org/10.1002/9781118730720 <br>"
   ]
  },
  {
   "cell_type": "code",
   "execution_count": 168,
   "metadata": {},
   "outputs": [
    {
     "name": "stdout",
     "output_type": "stream",
     "text": [
      "       log_proline\n",
      "count       178.00\n",
      "mean          6.53\n",
      "std           0.41\n",
      "min           5.63\n",
      "25%           6.22\n",
      "50%           6.51\n",
      "75%           6.89\n",
      "max           7.43\n"
     ]
    }
   ],
   "source": [
    "wine_df['log_proline'] = np.log1p(wine_df['proline'])  # Apply log transform\n",
    "wine_df.drop(columns=['proline'], inplace=True)  # Remove original column\n",
    "\n",
    "print(wine_df[['log_proline']].describe())  # Check distribution"
   ]
  },
  {
   "cell_type": "markdown",
   "metadata": {},
   "source": [
    "#### Section 2.3. Phenol Ratio (Total Phenols/Favonoids):\n",
    "\n",
    "Phenolic compounds influence astringency, color, and aging potential. <br>\n",
    "Flavonoids are antioxidants that impact bitterness and structure. <br>\n",
    "By taking the ratio of total phenols to flavonoids, we capture how bitter vs. smooth a wine is. <br>\n",
    "\n",
    "---\n",
    "\n",
    "Boulton, R. B. (2001). _The copigmentation of anthocyanins and its role in the color of red wine._ American Journal of Enology and Viticulture, _52_(2), 67–81. https://doi.org/10.5344/ajev.2001.52.2.67 <br>\n",
    "Cheynier, V. (2006). _Phenolic compounds in wine._ American Journal of Enology and Viticulture, _57_(3), 306–313. https://doi.org/10.5344/ajev.2006.57.3.306 <br>"
   ]
  },
  {
   "cell_type": "code",
   "execution_count": 169,
   "metadata": {},
   "outputs": [
    {
     "name": "stdout",
     "output_type": "stream",
     "text": [
      "   phenol_ratio  color_ratio\n",
      "0          0.92         5.42\n",
      "1          0.96         4.17\n",
      "2          0.86         5.51\n",
      "3          1.10         9.07\n",
      "4          1.04         4.15\n"
     ]
    }
   ],
   "source": [
    "wine_df['phenol_ratio'] = wine_df['total_phenols'] / wine_df['flavanoids']\n",
    "wine_df['color_ratio'] = wine_df['color_intensity'] / wine_df['hue']\n",
    "\n",
    "print(wine_df[['phenol_ratio', 'color_ratio']].head())  # View new features\n"
   ]
  },
  {
   "cell_type": "markdown",
   "metadata": {},
   "source": [
    "#### Section 2.4. Re-categorization of Alcohol into Low, Medium, High (to simply Alcohol Content Levels):\n",
    "\n",
    "Alcohol content is a major determinant of perceived wine strength and balance. <br>\n",
    "Low-alcohol wines are often light and crisp, while high-alcohol wines feel full-bodied and warm. <br>\n",
    "Binning allows experts to classify wines into taste categories. <br>\n",
    "\n",
    "---\n",
    "\n",
    "Jackson, R. S. (2008). _Wine science: Principles and applications_ (3rd ed.). Elsevier Academic Press. <br>\n",
    "Pickering, G. J. (2000). _The relationship between alcohol, sweetness, and consumer preferences in wine._ Food Quality and Preference, _11_(5), 311–319. https://doi.org/10.1016/S0950-3293(99)00079-7 <br>"
   ]
  },
  {
   "cell_type": "code",
   "execution_count": 170,
   "metadata": {},
   "outputs": [
    {
     "name": "stdout",
     "output_type": "stream",
     "text": [
      "   alcohol alcohol_bin\n",
      "0    14.23        High\n",
      "1    13.20        High\n",
      "2    13.16        High\n",
      "3    14.37        High\n",
      "4    13.24        High\n"
     ]
    }
   ],
   "source": [
    "bins = [10, 12, 13, 15]  # Define bin ranges\n",
    "labels = ['Low', 'Medium', 'High']  # Define labels\n",
    "wine_df['alcohol_bin'] = pd.cut(wine_df['alcohol'], bins=bins, labels=labels)\n",
    "\n",
    "print(wine_df[['alcohol', 'alcohol_bin']].head(5))  # View binning result\n"
   ]
  },
  {
   "cell_type": "markdown",
   "metadata": {},
   "source": [
    "#### Section 2.5. Standardization of Acidty, Alcohol and Phenols:\n",
    "\n",
    "Some features (like proline or alcohol) naturally have larger numerical values than others. <br>\n",
    "Standardization ensures that features like acidity, phenols, and color intensity are equally considered when predicting quality. <br>\n",
    "This is especially important for machine learning models, where different scales might bias predictions. <br>\n",
    "\n",
    "---\n",
    "\n",
    "Amerine, M. A., & Roessler, E. B. (1976). _Wines: Their sensory evaluation._ University of California Press. <br>\n",
    "Noble, A. C., Arnold, R. A., Masuda, B. M., & Pecore, S. D. (1987). _Taste and aroma thresholds for phenolic compounds in wine._ Journal of Sensory Studies, _2_(2), 137–148. <br>"
   ]
  },
  {
   "cell_type": "code",
   "execution_count": 171,
   "metadata": {},
   "outputs": [
    {
     "name": "stdout",
     "output_type": "stream",
     "text": [
      "   alcohol  malic_acid   ash  alcalinity_of_ash  magnesium  total_phenols  flavanoids  nonflavanoid_phenols  proanthocyanins  color_intensity   hue  od280/od315_of_diluted_wines  log_proline  phenol_ratio  color_ratio  target\n",
      "0     1.52       -0.56  0.23              -1.17       1.91           0.81        1.03                 -0.66             1.22             0.25  0.36                          1.85         1.06         -0.69        -0.14       0\n",
      "1     0.25       -0.50 -0.83              -2.49       0.02           0.57        0.73                 -0.82            -0.54            -0.29  0.41                          1.11         1.03         -0.63        -0.43       0\n",
      "2     0.20        0.02  1.11              -0.27       0.09           0.81        1.22                 -0.50             2.14             0.27  0.32                          0.79         1.32         -0.76        -0.12       0\n",
      "3     1.69       -0.35  0.49              -0.81       0.93           2.49        1.47                 -0.98             1.03             1.19 -0.43                          1.18         1.86         -0.43         0.70       0\n",
      "4     0.30        0.23  1.84               0.45       1.28           0.81        0.66                  0.23             0.40            -0.32  0.36                          0.45         0.17         -0.52        -0.43       0\n"
     ]
    }
   ],
   "source": [
    "wine_numeric = wine_df.select_dtypes(include=['number'])  # Keep only numeric columns\n",
    "scaler = StandardScaler()\n",
    "wine_scaled = pd.DataFrame(scaler.fit_transform(wine_numeric.drop(columns=['target'])), columns=wine_numeric.drop(columns=['target']).columns)\n",
    "wine_scaled['target'] = wine_numeric['target']  # Add target column back\n",
    "\n",
    "print(wine_scaled.head())  # Check transformed data\n"
   ]
  },
  {
   "cell_type": "markdown",
   "metadata": {},
   "source": [
    "### Section 3. Feature Selection and Justification\n",
    "\n",
    "3.1 Choose features and target <br>\n",
    "Select two or more input features (numerical for regression, numerical and/or categorical for classification) <br>\n",
    "\n",
    "3.1.1. Single Feature - Alcohol <br>\n",
    "Input Features: `alcohol` (numeric) <br>\n",
    "Target: `target` (wine class) <br>\n",
    "\n",
    "3.1.2. Single Feature - Color Intensity <br>\n",
    "Input Features:  `color_intensity` (numeric) <br>\n",
    "Target: `target` (wine class) <br>\n",
    "\n",
    "3.1.3. Double Feature - Alcohol & Color Intensity <br>\n",
    "Input Features:  `alcohol` + `color_intensity` <br>\n",
    "target: `target` (wine class) <br>\n",
    "\n",
    "3.1.4. Triple Feature - Alcohol, Color Intensity & Flavanoids <br>\n",
    "Input Feature: `alcohol` + `color_intensity` + `flavanoids` <br>\n",
    "Target: `target` (wine class) <br>\n",
    "\n",
    "3.1.5. Multi-Feature - Alcohol, Color Intensity, Flavanoids, Phenols & Hue <br>\n",
    "Input Feature: `alcohol` + `color_intensity` + `flavanoids` + `total_phenols` + `hue` <br>\n",
    "Target: `target` (wine class) <br>"
   ]
  },
  {
   "cell_type": "code",
   "execution_count": 172,
   "metadata": {},
   "outputs": [
    {
     "name": "stdout",
     "output_type": "stream",
     "text": [
      "3.1.1. - X1: (142, 1) y: (142,)\n",
      "3.1.2. - X2: (142, 1) y: (142,)\n",
      "3.1.3. - X3: (142, 2) y: (142,)\n",
      "3.1.4. - X4: (142, 3) y: (142,)\n",
      "3.1.5. - X5: (142, 5) y: (142,)\n"
     ]
    }
   ],
   "source": [
    "# 3.1.1. LogisticRegression Single Feature - 'alcohol'\n",
    "X1 = wine_df[['alcohol']]\n",
    "y = wine_df['target']\n",
    "\n",
    "# 3.1.2. Single Feature - 'color_intensity'\n",
    "X2 = wine_df[['color_intensity']]\n",
    "\n",
    "# 3.1.3. Two Features - 'alcohol' & 'color_intensity'\n",
    "X3 = wine_df[['alcohol', 'color_intensity']]\n",
    "\n",
    "# 3.1.4. Three Features - 'alcohol', 'color_intensity', 'flavanoids'\n",
    "X4 = wine_df[['alcohol', 'color_intensity', 'flavanoids']]\n",
    "\n",
    "# 3.1.5. Multiple Features - 'alcohol', 'color_intensity', 'flavanoids', 'total_phenols', 'hue'\n",
    "X5 = wine_df[['alcohol', 'color_intensity', 'flavanoids', 'total_phenols', 'hue']]\n",
    "\n",
    "# Split into training (80%) and testing (20%) sets (keep y_train and y_test consistent across cases)\n",
    "X1_train, X1_test, y_train, y_test = train_test_split(X1, y, test_size=0.2, random_state=42)\n",
    "X2_train, X2_test, y_train, y_test = train_test_split(X2, y, test_size=0.2, random_state=42)\n",
    "X3_train, X3_test, y_train, y_test = train_test_split(X3, y, test_size=0.2, random_state=42)\n",
    "X4_train, X4_test, y_train, y_test = train_test_split(X4, y, test_size=0.2, random_state=42)\n",
    "X5_train, X5_test, y_train, y_test = train_test_split(X5, y, test_size=0.2, random_state=42)\n",
    "\n",
    "# Check shapes\n",
    "print(\"3.1.1. - X1:\", X1_train.shape, \"y:\", y_train.shape)\n",
    "print(\"3.1.2. - X2:\", X2_train.shape, \"y:\", y_train.shape)\n",
    "print(\"3.1.3. - X3:\", X3_train.shape, \"y:\", y_train.shape)\n",
    "print(\"3.1.4. - X4:\", X4_train.shape, \"y:\", y_train.shape)\n",
    "print(\"3.1.5. - X5:\", X5_train.shape, \"y:\", y_train.shape)"
   ]
  },
  {
   "cell_type": "markdown",
   "metadata": {},
   "source": [
    "### 3.2.1 Defining X (Features) and y (Target) - Single Feature - Alcohol <br>\n",
    "In this case, we are using one feature `alcohol` as the input variable `X` and wine type `target` as the output variable `y`. \n",
    "- X is a 2D DataFrame `[[ ]]` containing one column `alcohol`.\n",
    "- y is a 1D Series `[ ]` storing the wine class (0, 1, or 2).\n",
    "- This setup allows us to build a simple classification model that predicts the wine type based on its alcohol content."
   ]
  },
  {
   "cell_type": "code",
   "execution_count": 173,
   "metadata": {},
   "outputs": [
    {
     "name": "stdout",
     "output_type": "stream",
     "text": [
      "X (features) shape: (178, 1)\n",
      "y (target) shape: (178,)\n",
      "\n",
      "First 5 rows of X:\n",
      "    alcohol\n",
      "0    14.23\n",
      "1    13.20\n",
      "2    13.16\n",
      "3    14.37\n",
      "4    13.24\n",
      "\n",
      "First 5 rows of y:\n",
      " 0    0\n",
      "1    0\n",
      "2    0\n",
      "3    0\n",
      "4    0\n",
      "Name: target, dtype: int64\n"
     ]
    }
   ],
   "source": [
    "# Define X (Feature = 'alcohol') and y (Target = 'target')\n",
    "X = wine_df[['alcohol']]  # 2D DataFrame (Double Brackets [[ ]])\n",
    "y = wine_df['target']  # 1D Series (Single Brackets [ ])\n",
    "\n",
    "# Check structure\n",
    "print(\"X (features) shape:\", X.shape)\n",
    "print(\"y (target) shape:\", y.shape)\n",
    "print(\"\\nFirst 5 rows of X:\\n\", X.head())\n",
    "print(\"\\nFirst 5 rows of y:\\n\", y.head())"
   ]
  },
  {
   "cell_type": "markdown",
   "metadata": {},
   "source": [
    "### 3.2.2 Defining X (Features) and y (Target) - Single Feature - Alcohol <br>\n",
    "In this case, we are using one feature `color_intensity` as the input variable `X` and wine type `target` as the output variable `y`. \n",
    "- `X` is a 2D DataFrame containing one column `color_intensity`.\n",
    "- `y` is a 1D Series storing the wine class.\n",
    "- This setup allows us to analyze the impact of wine color intensity on its classification.\n"
   ]
  },
  {
   "cell_type": "code",
   "execution_count": 174,
   "metadata": {},
   "outputs": [],
   "source": [
    "# Define X (Feature = 'color_intensity') and y (Target = 'target')\n",
    "X = wine_df[['color_intensity']]  # 2D DataFrame\n",
    "y = wine_df['target']  # 1D Series\n"
   ]
  },
  {
   "cell_type": "markdown",
   "metadata": {},
   "source": [
    "### 3.2.3 Defining X (Features) and y (Target) - Alcohol & Color Intensity <br>\n",
    "In this case, we are using two features (`alcohol` and `color_intensity` as the input variables `X` and wine type `target` as the output variable `y`.\n",
    "- `X` is a 2D DataFrame containing two columns: `alcohol` and `color_intensity`.\n",
    "- `y` is a 1D Series storing the wine class.\n",
    "- This setup allows us to evaluate how both alcohol content and color intensity together influence wine classification."
   ]
  },
  {
   "cell_type": "code",
   "execution_count": 175,
   "metadata": {},
   "outputs": [],
   "source": [
    "# Define X (Features = 'alcohol' & 'color_intensity') and y (Target)\n",
    "X = wine_df[['alcohol', 'color_intensity']]  # 2D DataFrame with 2 features\n",
    "y = wine_df['target']  # 1D Series"
   ]
  },
  {
   "cell_type": "markdown",
   "metadata": {},
   "source": [
    "### 3.2.4 Defining X (Features) and y (Target) - Alcohol, Color Intensity & Flavanoids <br>\n",
    "- Uses three input features: `alcohol`, `color_intensity`, and `flavanoids`.\n",
    "- As we add more features, our classification model gets more information, potentially improving accuracy."
   ]
  },
  {
   "cell_type": "code",
   "execution_count": null,
   "metadata": {},
   "outputs": [],
   "source": [
    "# Three Features - 'alcohol', 'color_intensity', 'flavanoids'\n",
    "X = wine_df[['alcohol', 'color_intensity', 'flavanoids']]  # 3 features"
   ]
  },
  {
   "cell_type": "markdown",
   "metadata": {},
   "source": [
    "### 3.2.5 Defining X (Features) and y (Target) - Alcohol, Color Intensity, Flavanoids, Phenols & Hue <br>\n",
    "- Uses five input features: `alcohol`, `color_intensity`, `flavanoids`, `total_phenols` and `hue`.\n",
    "- As we add more features, our classification model gets more information, potentially improving accuracy."
   ]
  },
  {
   "cell_type": "code",
   "execution_count": 177,
   "metadata": {},
   "outputs": [],
   "source": [
    "# Multiple Features\n",
    "X = wine_df[['alcohol', 'color_intensity', 'flavanoids', 'total_phenols', 'hue']]  # 5 features"
   ]
  }
 ],
 "metadata": {
  "kernelspec": {
   "display_name": ".venv",
   "language": "python",
   "name": "python3"
  },
  "language_info": {
   "codemirror_mode": {
    "name": "ipython",
    "version": 3
   },
   "file_extension": ".py",
   "mimetype": "text/x-python",
   "name": "python",
   "nbconvert_exporter": "python",
   "pygments_lexer": "ipython3",
   "version": "3.13.2"
  }
 },
 "nbformat": 4,
 "nbformat_minor": 2
}
